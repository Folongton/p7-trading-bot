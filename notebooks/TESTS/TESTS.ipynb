{
 "cells": [
  {
   "cell_type": "code",
   "execution_count": 15,
   "metadata": {},
   "outputs": [],
   "source": [
    "from src.common.globals import G, split_train_valid_test, calc_errors, save_errors_to_table, get_naive_forecast\n",
    "from src.data.get_data import CSVsLoader\n",
    "from src.common.analysis_and_plots import Visualize as V\n",
    "\n",
    "\n",
    "import os\n",
    "from src.common.logs import setup_logging\n",
    "import logging\n",
    "\n",
    "from sklearn.model_selection import train_test_split\n",
    "from sklearn.linear_model import LinearRegression\n",
    "\n",
    "PROJECT_PATH = G.get_project_root()\n",
    "DATA_DIR_PROCESSED = os.path.join(PROJECT_PATH, r'data\\03_processed\\daily_full')\n",
    "\n",
    "config = {\n",
    "    'AV': {\n",
    "        'key': '',\n",
    "        'ticker': 'MSFT',\n",
    "        'outputsize': 'full',\n",
    "        'key_adjusted_close': '5. adjusted close',\n",
    "        'key_volume': '6. volume',\n",
    "    },\n",
    "    'data': {\n",
    "        'train_size': 0.85,\n",
    "        'valid_size': 0.145,\n",
    "        'test_size': 0.005,\n",
    "    }, \n",
    "    'model_params': {\n",
    "        'input_size': '', \n",
    "    },\n",
    "}\n"
   ]
  },
  {
   "cell_type": "code",
   "execution_count": 17,
   "metadata": {},
   "outputs": [
    {
     "name": "stderr",
     "output_type": "stream",
     "text": [
      "2023-09-08 11:38:59 - src.data.get_data - INFO - Loaded \"..\\P7-Trading-Bot\\data\\03_processed\\daily_full\\MSFT-daily-full.csv\". Number data points 5995. From \"1999-11-01\" to \"2023-08-29\"\n"
     ]
    },
    {
     "name": "stdout",
     "output_type": "stream",
     "text": [
      "R^2: 0.7581273512230021\n"
     ]
    }
   ],
   "source": [
    "df = CSVsLoader(ticker=config['AV']['ticker'], directory=DATA_DIR_PROCESSED)\n",
    "\n",
    "\n",
    "df['Close - 1'] = df['Adj Close'].shift(1)\n",
    "df['Volume - 1'] = df['Volume'].shift(1)\n",
    "df = df.dropna(how='any')\n",
    "X = df[['Close - 1', 'Volume - 1']]\n",
    "y = df['Adj Close'].values.reshape(-1,1)\n",
    "\n",
    "X_train, X_test, y_train, y_test = train_test_split(X, y, test_size=config['data']['test_size'], random_state=7, shuffle=False)\n",
    "\n",
    "model = LinearRegression().fit(X_train, y_train)\n",
    "\n",
    "print(f'R^2: {model.score(X_test, y_test)}')\n",
    "\n",
    "# y_pred = model.predict(X_test)\n",
    "# y_true = y_test\n",
    "\n",
    "# naive_forecast = get_naive_forecast(df).iloc[-len(y_true):]\n",
    "# rmse, mae, mape, mase = calc_errors(y_true, y_pred, naive_forecast)\n",
    "# save_errors_to_table('LinearRegression', rmse, mae, mape, mase)\n",
    "\n",
    "# V.plot_pred_vs_actual(y_true, y_pred, os.path.basename(__file__), show=True)"
   ]
  },
  {
   "cell_type": "code",
   "execution_count": 7,
   "metadata": {},
   "outputs": [
    {
     "data": {
      "text/plain": [
       "[1, 2, 3, 4]"
      ]
     },
     "execution_count": 7,
     "metadata": {},
     "output_type": "execute_result"
    }
   ],
   "source": [
    "a = [1]\n",
    "b = [2,3,4]\n",
    "a.extend(b)\n",
    "a"
   ]
  },
  {
   "cell_type": "code",
   "execution_count": 8,
   "metadata": {},
   "outputs": [],
   "source": [
    "a = 7"
   ]
  },
  {
   "cell_type": "code",
   "execution_count": 13,
   "metadata": {},
   "outputs": [
    {
     "data": {
      "text/plain": [
       "<method-wrapper '__repr__' of int object at 0x00007FFA98EEE3E8>"
      ]
     },
     "execution_count": 13,
     "metadata": {},
     "output_type": "execute_result"
    }
   ],
   "source": []
  }
 ],
 "metadata": {
  "kernelspec": {
   "display_name": ".venv",
   "language": "python",
   "name": "python3"
  },
  "language_info": {
   "codemirror_mode": {
    "name": "ipython",
    "version": 3
   },
   "file_extension": ".py",
   "mimetype": "text/x-python",
   "name": "python",
   "nbconvert_exporter": "python",
   "pygments_lexer": "ipython3",
   "version": "3.11.4"
  },
  "orig_nbformat": 4
 },
 "nbformat": 4,
 "nbformat_minor": 2
}
