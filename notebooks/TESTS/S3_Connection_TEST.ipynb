{
 "cells": [
  {
   "cell_type": "markdown",
   "metadata": {},
   "source": [
    "**Amazon Simple Storage Service (Amazon S3)** is an object storage service that offers scalability, data availability, security, and performance.\n",
    "\n",
    "\n",
    "Amazon S3 is designed for 99.999999999% (11 9's) of durability, and stores data for millions of applications for companies all around the world.\n",
    "\n",
    "\n",
    "An **Amazon S3 bucket** is a storage location to hold files. S3 files are referred to as **objects**.\n",
    "\n",
    "\n",
    "\n",
    "**Boto 3** Boto3 is the Amazon Web Services (AWS) Software Development Kit (SDK) for Python, which allows Python developers to write software that makes use of services like Amazon S3 and Amazon EC2.\n"
   ]
  },
  {
   "cell_type": "markdown",
   "metadata": {},
   "source": [
    "**Create an Amazon S3 bucket**\n",
    "\n",
    "The name of an Amazon S3 bucket must be unique across all regions of the AWS platform. The bucket can be located in a specific region to minimize latency or to address regulatory requirements."
   ]
  },
  {
   "cell_type": "code",
   "execution_count": 1,
   "metadata": {},
   "outputs": [],
   "source": [
    "import logging\n",
    "import boto3\n",
    "from botocore.exceptions import ClientError\n",
    "\n",
    "# src/data/dotenv_example.py\n",
    "import os\n",
    "from dotenv import load_dotenv, find_dotenv\n",
    "\n",
    "# find .env automagically by walking up directories until it's found\n",
    "dotenv_path = find_dotenv()\n",
    "\n",
    "# load up the entries as environment variables \n",
    "load_dotenv(dotenv_path, verbose=True)\n",
    "\n",
    "AWS_ACCESS_KEY_ID = os.environ.get(\"AWS_ACCESS_KEY\")\n",
    "AWS_SECRET_ACCESS_KEY = os.environ.get(\"AWS_SECRET_ACCESS_KEY\")"
   ]
  },
  {
   "cell_type": "code",
   "execution_count": 4,
   "metadata": {},
   "outputs": [],
   "source": [
    "s3_client = boto3.client('s3', aws_access_key_id=AWS_ACCESS_KEY_ID, \n",
    "                               aws_secret_access_key=AWS_SECRET_ACCESS_KEY)\n",
    "\n",
    "# location = {'LocationConstraint': 'us-east-2'}\n",
    "# s3_client.create_bucket(Bucket='invest-bot-data', \n",
    "#                         CreateBucketConfiguration=location)"
   ]
  },
  {
   "cell_type": "markdown",
   "metadata": {},
   "source": [
    "## Listing Buckets"
   ]
  },
  {
   "cell_type": "code",
   "execution_count": 6,
   "metadata": {},
   "outputs": [
    {
     "name": "stdout",
     "output_type": "stream",
     "text": [
      "invest-bot-data\n"
     ]
    }
   ],
   "source": [
    "r = s3_client.list_buckets()\n",
    "for bucket in r['Buckets']:\n",
    "    print(bucket['Name'])"
   ]
  },
  {
   "cell_type": "markdown",
   "metadata": {},
   "source": [
    "## Uploading files\n"
   ]
  },
  {
   "cell_type": "code",
   "execution_count": 17,
   "metadata": {},
   "outputs": [],
   "source": [
    "s3_client.upload_file(r'flower_image.jpeg', 'invest-bot-data', 'data/flower_image.jpeg')"
   ]
  },
  {
   "cell_type": "markdown",
   "metadata": {},
   "source": [
    "## Upload as File Object"
   ]
  },
  {
   "cell_type": "code",
   "execution_count": null,
   "metadata": {},
   "outputs": [],
   "source": [
    "with open (r'flower_image.jpeg', 'rb') as file:\n",
    "    s3_client.upload_fileobj(file, 'invest-bot-data', 'data/flower_image.jpeg')"
   ]
  },
  {
   "cell_type": "markdown",
   "metadata": {},
   "source": [
    "## Extra Args\n",
    "Both upload_file and upload_fileobj accept an optional ExtraArgs parameter that can be used for various purposes.\n",
    "\n",
    "Some Important ExtraArgs\n"
   ]
  },
  {
   "cell_type": "code",
   "execution_count": null,
   "metadata": {},
   "outputs": [],
   "source": [
    "response = s3_client.upload_file(r'flower_image.jpeg', 'invest-bot-data', 'data/flower_image.jpeg', ExtraArgs={'ACL':'public-read'})"
   ]
  },
  {
   "cell_type": "markdown",
   "metadata": {},
   "source": [
    "## Downloading files\n",
    "\n",
    "The methods provided by the AWS SDK for Python to download files are similar to those provided to upload files.\n",
    "\n",
    "\n",
    "The download_file method accepts the names of the bucket and object to download and the filename to save the file to."
   ]
  },
  {
   "cell_type": "code",
   "execution_count": 20,
   "metadata": {},
   "outputs": [],
   "source": [
    "s3_client.download_file('invest-bot-data', 'data/flower_image.jpeg', 'flower_image_downloaded.jpeg')"
   ]
  },
  {
   "cell_type": "code",
   "execution_count": 21,
   "metadata": {},
   "outputs": [],
   "source": [
    "with open ('flower_image_downloaded.jpeg', 'wb') as file:\n",
    "    s3_client.download_fileobj('invest-bot-data', 'data/flower_image.jpeg', file)"
   ]
  },
  {
   "cell_type": "markdown",
   "metadata": {},
   "source": [
    "## File transfer configuration\n",
    "\n",
    "\n",
    "When uploading, downloading, or copying a file or S3 object, the AWS SDK for Python automatically manages retries and multipart and non-multipart transfers.\n",
    "\n",
    "The management operations are performed by using reasonable default settings that are well-suited for most scenarios. To handle a special case, the default settings can be configured to meet requirements.\n",
    "\n",
    "## Multipart transfers\n",
    "\n",
    "Multipart transfers occur when the file size exceeds the value of the multipart_threshold attribute.\n"
   ]
  },
  {
   "cell_type": "code",
   "execution_count": null,
   "metadata": {},
   "outputs": [],
   "source": [
    "from boto3.s3.transfer import TransferConfig\n",
    "GB = 1024 ** 3\n",
    "config = TransferConfig(multipart_threshold=5*GB)\n",
    "\n",
    "s3_client.upload_file(r'flower_image.jpeg', 'invest-bot-data', 'data/flower_image.jpeg', Config=config)"
   ]
  },
  {
   "cell_type": "markdown",
   "metadata": {},
   "source": [
    "## Presigned URLs\n",
    "\n",
    "A user who does not have AWS credentials or permission to access an S3 object can be granted temporary access by using a presigned URL.\n",
    "\n",
    "A presigned URL is generated by an AWS user who has access to the object. The generated URL is then given to the unauthorized user. The presigned URL can be entered in a browser or used by a program or HTML webpage. The credentials used by the presigned URL are those of the AWS user who generated the URL.\n",
    "\n",
    "A presigned URL remains valid for a limited period of time which is specified when the URL is generated."
   ]
  },
  {
   "cell_type": "code",
   "execution_count": null,
   "metadata": {},
   "outputs": [],
   "source": []
  },
  {
   "cell_type": "markdown",
   "metadata": {},
   "source": [
    "## Bucket policies\n",
    "\n",
    "An S3 bucket can have an optional policy that grants access permissions to other AWS accounts or AWS Identity and Access Management (IAM) users. Bucket policies are defined using the same JSON format as a resource-based IAM policy."
   ]
  },
  {
   "cell_type": "markdown",
   "metadata": {},
   "source": [
    "## Retrieve a Bucket Policy"
   ]
  },
  {
   "cell_type": "code",
   "execution_count": null,
   "metadata": {},
   "outputs": [],
   "source": []
  },
  {
   "cell_type": "markdown",
   "metadata": {},
   "source": [
    "## Set a bucket policy\n",
    "\n",
    "A bucket's policy can be set by calling the put_bucket_policy method.\n",
    "\n",
    "The policy is defined in the same JSON format as an IAM policy. \n",
    "\n"
   ]
  },
  {
   "cell_type": "markdown",
   "metadata": {},
   "source": [
    "## Policy Format\n",
    "\n",
    "The **Sid (statement ID)** is an optional identifier that you provide for the policy statement. You can assign a Sid value to each statement in a statement array.\n",
    "\n",
    "The **Effect** element is required and specifies whether the statement results in an allow or an explicit deny. Valid values for Effect are Allow and Deny.\n",
    "\n",
    "By default, access to resources is denied. \n",
    "\n",
    "Use the **Principal** element in a policy to specify the principal that is allowed or denied access to a resource.\n",
    "\n",
    "You can specify any of the following principals in a policy:\n",
    "\n",
    "- AWS account and root user\n",
    "- IAM users\n",
    "- Federated users (using web identity or SAML federation)\n",
    "- IAM roles\n",
    "- Assumed-role sessions\n",
    "- AWS services\n",
    "- Anonymous users\n",
    "\n",
    "\n",
    "The **Action** element describes the specific action or actions that will be allowed or denied. \n",
    "\n",
    "We specify a value using a service namespace as an action prefix (iam, ec2, sqs, sns, s3, etc.) followed by the name of the action to allow or deny.\n",
    "\n",
    "The **Resource** element specifies the object or objects that the statement covers. We specify a resource using an ARN. Amazon Resource Names (ARNs) uniquely identify AWS resources."
   ]
  },
  {
   "cell_type": "markdown",
   "metadata": {},
   "source": [
    "Let's define a policy that enables any user to retrieve any object stored in the bucket identified by the bucket_name variable."
   ]
  },
  {
   "cell_type": "code",
   "execution_count": null,
   "metadata": {},
   "outputs": [],
   "source": []
  },
  {
   "cell_type": "markdown",
   "metadata": {},
   "source": [
    "## Delete a bucket policy\n"
   ]
  },
  {
   "cell_type": "code",
   "execution_count": null,
   "metadata": {},
   "outputs": [],
   "source": []
  },
  {
   "cell_type": "markdown",
   "metadata": {},
   "source": [
    "## CORS Configuration\n",
    "\n",
    "Cross Origin Resource Sharing (CORS) enables client web applications in one domain to access resources in another domain. An S3 bucket can be configured to enable cross-origin requests. The configuration defines rules that specify the allowed origins, HTTP methods (GET, PUT, etc.), and other elements."
   ]
  },
  {
   "cell_type": "markdown",
   "metadata": {},
   "source": [
    "## Retrieve a bucket CORS configuration\n",
    "\n",
    "Retrieve a bucket's CORS configuration by calling the AWS SDK for Python get_bucket_cors method.\n"
   ]
  },
  {
   "cell_type": "code",
   "execution_count": null,
   "metadata": {},
   "outputs": [],
   "source": []
  },
  {
   "cell_type": "markdown",
   "metadata": {},
   "source": [
    "## Set Bucket CORS"
   ]
  },
  {
   "cell_type": "code",
   "execution_count": null,
   "metadata": {},
   "outputs": [],
   "source": []
  },
  {
   "cell_type": "code",
   "execution_count": null,
   "metadata": {},
   "outputs": [],
   "source": []
  }
 ],
 "metadata": {
  "kernelspec": {
   "display_name": "Python 3",
   "language": "python",
   "name": "python3"
  },
  "language_info": {
   "codemirror_mode": {
    "name": "ipython",
    "version": 3
   },
   "file_extension": ".py",
   "mimetype": "text/x-python",
   "name": "python",
   "nbconvert_exporter": "python",
   "pygments_lexer": "ipython3",
   "version": "3.11.4"
  }
 },
 "nbformat": 4,
 "nbformat_minor": 4
}
