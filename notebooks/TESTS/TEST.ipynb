{
 "cells": [
  {
   "cell_type": "code",
   "execution_count": 3,
   "metadata": {},
   "outputs": [
    {
     "name": "stderr",
     "output_type": "stream",
     "text": [
      "2023-10-03 00:55:43.228869: E tensorflow/compiler/xla/stream_executor/cuda/cuda_dnn.cc:9342] Unable to register cuDNN factory: Attempting to register factory for plugin cuDNN when one has already been registered\n",
      "2023-10-03 00:55:43.228925: E tensorflow/compiler/xla/stream_executor/cuda/cuda_fft.cc:609] Unable to register cuFFT factory: Attempting to register factory for plugin cuFFT when one has already been registered\n",
      "2023-10-03 00:55:43.228950: E tensorflow/compiler/xla/stream_executor/cuda/cuda_blas.cc:1518] Unable to register cuBLAS factory: Attempting to register factory for plugin cuBLAS when one has already been registered\n",
      "2023-10-03 00:55:43.235818: I tensorflow/core/platform/cpu_feature_guard.cc:182] This TensorFlow binary is optimized to use available CPU instructions in performance-critical operations.\n",
      "To enable the following instructions: AVX2 FMA, in other operations, rebuild TensorFlow with the appropriate compiler flags.\n",
      "2023-10-03 00:55:45.577142: I tensorflow/compiler/xla/stream_executor/cuda/cuda_gpu_executor.cc:880] could not open file to read NUMA node: /sys/bus/pci/devices/0000:01:00.0/numa_node\n",
      "Your kernel may have been built without NUMA support.\n",
      "2023-10-03 00:55:45.589526: I tensorflow/compiler/xla/stream_executor/cuda/cuda_gpu_executor.cc:880] could not open file to read NUMA node: /sys/bus/pci/devices/0000:01:00.0/numa_node\n",
      "Your kernel may have been built without NUMA support.\n",
      "2023-10-03 00:55:45.589563: I tensorflow/compiler/xla/stream_executor/cuda/cuda_gpu_executor.cc:880] could not open file to read NUMA node: /sys/bus/pci/devices/0000:01:00.0/numa_node\n",
      "Your kernel may have been built without NUMA support.\n"
     ]
    },
    {
     "data": {
      "text/plain": [
       "[PhysicalDevice(name='/physical_device:CPU:0', device_type='CPU'),\n",
       " PhysicalDevice(name='/physical_device:GPU:0', device_type='GPU')]"
      ]
     },
     "execution_count": 3,
     "metadata": {},
     "output_type": "execute_result"
    }
   ],
   "source": [
    "import tensorflow as tf\n",
    "tf.config.list_physical_devices()\n",
    "import sys\n",
    "# sys.path.append(\"/home/folongton/.local/bin\")\n",
    "sys.path"
   ]
  },
  {
   "cell_type": "code",
   "execution_count": 13,
   "metadata": {},
   "outputs": [
    {
     "data": {
      "text/plain": [
       "False"
      ]
     },
     "execution_count": 13,
     "metadata": {},
     "output_type": "execute_result"
    }
   ],
   "source": [
    "import os\n",
    "from src.common.globals import G\n",
    "PROJECT_PATH = G.get_project_root()\n",
    "\n",
    "def check_model_presense(model_name):\n",
    "    ''' Checks if model is already in the folder \"models_trained\" recursively.\n",
    "        If so, returns True, else False.\n",
    "\n",
    "    INPUT:  model_name: str\n",
    "    OUTPUT: bool\n",
    "    '''\n",
    "    for dirpath, dirnames, filenames in os.walk(os.path.join(str(PROJECT_PATH), r'models_trained')):\n",
    "        model_present = False\n",
    "        scalers_present = False\n",
    "        for filename in filenames:\n",
    "            print (filename)\n",
    "            if model_name in filename and filename.endswith('.keras'):\n",
    "                model_present = True\n",
    "\n",
    "            if model_name in filename and filename.endswith('_scalers.pkl'):\n",
    "                scalers_present = True\n",
    "            print (model_present, scalers_present)\n",
    "\n",
    "\n",
    "        if model_present and scalers_present:\n",
    "            return True\n",
    "        elif model_present and not scalers_present:\n",
    "            raise Exception(f'Model {model_name} is present, but scalers are not')\n",
    "        elif not model_present and scalers_present:\n",
    "            raise Exception(f'Model {model_name} is not present, but scalers are')\n",
    "        else:\n",
    "            return False\n",
    "        \n",
    "check_model_presense('MSFT_LSTM_W20_SBS5500_B32_E500_P42113_2023_10_09__16_15')"
   ]
  },
  {
   "cell_type": "code",
   "execution_count": 19,
   "metadata": {},
   "outputs": [
    {
     "name": "stdout",
     "output_type": "stream",
     "text": [
      "MSFT_LSTM_W20_SBS5500_B32_E500_P42113_2023_10_09__16_15.keras\n",
      "MSFT_LSTM_W20_SBS5500_B32_E500_P42113_2023_10_09__16_15_scalers.pkl\n",
      "MSFT_LSTM_W20_SBS5500_B32_E5_P42113_2023_10_10__21_04.keras\n",
      "MSFT_LSTM_W20_SBS5500_B32_E5_P42113_2023_10_10__21_04_scalers.pkl\n",
      "LenearRegression.pkl\n"
     ]
    }
   ],
   "source": [
    "\n",
    "for x,y,z in os.walk(os.path.join(str(PROJECT_PATH), r'models_trained')):\n",
    "    for name in z:\n",
    "        print (name)"
   ]
  },
  {
   "cell_type": "code",
   "execution_count": null,
   "metadata": {},
   "outputs": [],
   "source": []
  }
 ],
 "metadata": {
  "kernelspec": {
   "display_name": ".venv",
   "language": "python",
   "name": "python3"
  },
  "language_info": {
   "codemirror_mode": {
    "name": "ipython",
    "version": 3
   },
   "file_extension": ".py",
   "mimetype": "text/x-python",
   "name": "python",
   "nbconvert_exporter": "python",
   "pygments_lexer": "ipython3",
   "version": "3.11.0"
  },
  "orig_nbformat": 4
 },
 "nbformat": 4,
 "nbformat_minor": 2
}
