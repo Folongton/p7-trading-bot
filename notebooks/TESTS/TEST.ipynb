{
 "cells": [
  {
   "cell_type": "code",
   "execution_count": 9,
   "metadata": {},
   "outputs": [
    {
     "name": "stdout",
     "output_type": "stream",
     "text": [
      "[*********************100%%**********************]  1 of 1 completed\n"
     ]
    },
    {
     "data": {
      "text/html": [
       "<div>\n",
       "<style scoped>\n",
       "    .dataframe tbody tr th:only-of-type {\n",
       "        vertical-align: middle;\n",
       "    }\n",
       "\n",
       "    .dataframe tbody tr th {\n",
       "        vertical-align: top;\n",
       "    }\n",
       "\n",
       "    .dataframe thead th {\n",
       "        text-align: right;\n",
       "    }\n",
       "</style>\n",
       "<table border=\"1\" class=\"dataframe\">\n",
       "  <thead>\n",
       "    <tr style=\"text-align: right;\">\n",
       "      <th></th>\n",
       "      <th>Open</th>\n",
       "      <th>High</th>\n",
       "      <th>Low</th>\n",
       "      <th>Close</th>\n",
       "      <th>Adj Close</th>\n",
       "      <th>Volume</th>\n",
       "    </tr>\n",
       "    <tr>\n",
       "      <th>Date</th>\n",
       "      <th></th>\n",
       "      <th></th>\n",
       "      <th></th>\n",
       "      <th></th>\n",
       "      <th></th>\n",
       "      <th></th>\n",
       "    </tr>\n",
       "  </thead>\n",
       "  <tbody>\n",
       "    <tr>\n",
       "      <th>2023-01-03</th>\n",
       "      <td>243.080002</td>\n",
       "      <td>245.750000</td>\n",
       "      <td>237.399994</td>\n",
       "      <td>239.580002</td>\n",
       "      <td>237.956329</td>\n",
       "      <td>25740000</td>\n",
       "    </tr>\n",
       "    <tr>\n",
       "      <th>2023-01-04</th>\n",
       "      <td>232.279999</td>\n",
       "      <td>232.869995</td>\n",
       "      <td>225.960007</td>\n",
       "      <td>229.100006</td>\n",
       "      <td>227.547348</td>\n",
       "      <td>50623400</td>\n",
       "    </tr>\n",
       "    <tr>\n",
       "      <th>2023-01-05</th>\n",
       "      <td>227.199997</td>\n",
       "      <td>227.550003</td>\n",
       "      <td>221.759995</td>\n",
       "      <td>222.309998</td>\n",
       "      <td>220.803360</td>\n",
       "      <td>39585600</td>\n",
       "    </tr>\n",
       "    <tr>\n",
       "      <th>2023-01-06</th>\n",
       "      <td>223.000000</td>\n",
       "      <td>225.759995</td>\n",
       "      <td>219.350006</td>\n",
       "      <td>224.929993</td>\n",
       "      <td>223.405609</td>\n",
       "      <td>43613600</td>\n",
       "    </tr>\n",
       "    <tr>\n",
       "      <th>2023-01-09</th>\n",
       "      <td>226.449997</td>\n",
       "      <td>231.240005</td>\n",
       "      <td>226.410004</td>\n",
       "      <td>227.119995</td>\n",
       "      <td>225.580750</td>\n",
       "      <td>27369800</td>\n",
       "    </tr>\n",
       "  </tbody>\n",
       "</table>\n",
       "</div>"
      ],
      "text/plain": [
       "                  Open        High         Low       Close   Adj Close  \\\n",
       "Date                                                                     \n",
       "2023-01-03  243.080002  245.750000  237.399994  239.580002  237.956329   \n",
       "2023-01-04  232.279999  232.869995  225.960007  229.100006  227.547348   \n",
       "2023-01-05  227.199997  227.550003  221.759995  222.309998  220.803360   \n",
       "2023-01-06  223.000000  225.759995  219.350006  224.929993  223.405609   \n",
       "2023-01-09  226.449997  231.240005  226.410004  227.119995  225.580750   \n",
       "\n",
       "              Volume  \n",
       "Date                  \n",
       "2023-01-03  25740000  \n",
       "2023-01-04  50623400  \n",
       "2023-01-05  39585600  \n",
       "2023-01-06  43613600  \n",
       "2023-01-09  27369800  "
      ]
     },
     "execution_count": 9,
     "metadata": {},
     "output_type": "execute_result"
    }
   ],
   "source": [
    "\n",
    "from datetime import datetime\n",
    "import os, sys\n",
    "\n",
    "# ---------- Add project root to path ----------\n",
    "from dotenv import find_dotenv, load_dotenv\n",
    "load_dotenv(find_dotenv(), verbose=True) # Example:  AWS_ACCESS_KEY_ID = os.environ.get(\"AWS_ACCESS_KEY\")\n",
    "PROJECT_ROOT = os.environ.get(\"PROJECT_ROOT\")\n",
    "sys.path.append(PROJECT_ROOT)\n",
    "# ----------------------------------------------\n",
    "\n",
    "from src.data.get_data import YahooFinanceAPI as yfapi\n",
    "\n",
    "today = datetime.today().strftime('%Y-%m-%d')\n",
    "stock_data_df = yfapi.get_daily_data('MSFT', start_date='2023-01-01', end_date=today)\n",
    "stock_data_df.head()"
   ]
  },
  {
   "cell_type": "code",
   "execution_count": 1,
   "metadata": {},
   "outputs": [
    {
     "name": "stderr",
     "output_type": "stream",
     "text": [
      "2023-10-02 18:18:24.543878: I tensorflow/core/platform/cpu_feature_guard.cc:182] This TensorFlow binary is optimized to use available CPU instructions in performance-critical operations.\n",
      "To enable the following instructions: AVX2 FMA, in other operations, rebuild TensorFlow with the appropriate compiler flags.\n",
      "2023-10-02 18:18:26.892724: I tensorflow/compiler/xla/stream_executor/cuda/cuda_gpu_executor.cc:982] could not open file to read NUMA node: /sys/bus/pci/devices/0000:01:00.0/numa_node\n",
      "Your kernel may have been built without NUMA support.\n",
      "2023-10-02 18:18:26.898385: I tensorflow/compiler/xla/stream_executor/cuda/cuda_gpu_executor.cc:982] could not open file to read NUMA node: /sys/bus/pci/devices/0000:01:00.0/numa_node\n",
      "Your kernel may have been built without NUMA support.\n",
      "2023-10-02 18:18:26.898430: I tensorflow/compiler/xla/stream_executor/cuda/cuda_gpu_executor.cc:982] could not open file to read NUMA node: /sys/bus/pci/devices/0000:01:00.0/numa_node\n",
      "Your kernel may have been built without NUMA support.\n"
     ]
    },
    {
     "data": {
      "text/plain": [
       "[PhysicalDevice(name='/physical_device:CPU:0', device_type='CPU'),\n",
       " PhysicalDevice(name='/physical_device:GPU:0', device_type='GPU')]"
      ]
     },
     "execution_count": 1,
     "metadata": {},
     "output_type": "execute_result"
    }
   ],
   "source": [
    "import tensorflow as tf\n",
    "tf.config.list_physical_devices()"
   ]
  },
  {
   "cell_type": "code",
   "execution_count": 1,
   "metadata": {},
   "outputs": [
    {
     "data": {
      "text/plain": [
       "['/workspaces/p7-trading-bot/notebooks/TESTS',\n",
       " '/usr/lib/python311.zip',\n",
       " '/usr/lib/python3.11',\n",
       " '/usr/lib/python3.11/lib-dynload',\n",
       " '',\n",
       " '/usr/local/lib/python3.11/dist-packages',\n",
       " '/usr/lib/python3/dist-packages']"
      ]
     },
     "execution_count": 1,
     "metadata": {},
     "output_type": "execute_result"
    }
   ],
   "source": [
    "import sys\n",
    "# sys.path.append(\"/home/folongton/.local/bin\")\n",
    "sys.path"
   ]
  },
  {
   "cell_type": "code",
   "execution_count": null,
   "metadata": {},
   "outputs": [],
   "source": []
  }
 ],
 "metadata": {
  "kernelspec": {
   "display_name": ".venv",
   "language": "python",
   "name": "python3"
  },
  "language_info": {
   "codemirror_mode": {
    "name": "ipython",
    "version": 3
   },
   "file_extension": ".py",
   "mimetype": "text/x-python",
   "name": "python",
   "nbconvert_exporter": "python",
   "pygments_lexer": "ipython3",
   "version": "3.11.0rc1"
  },
  "orig_nbformat": 4
 },
 "nbformat": 4,
 "nbformat_minor": 2
}
