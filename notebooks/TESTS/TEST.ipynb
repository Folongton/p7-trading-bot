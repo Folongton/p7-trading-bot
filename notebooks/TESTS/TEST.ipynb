{
 "cells": [
  {
   "cell_type": "code",
   "execution_count": 2,
   "metadata": {},
   "outputs": [
    {
     "name": "stdout",
     "output_type": "stream",
     "text": [
      "[PhysicalDevice(name='/physical_device:CPU:0', device_type='CPU'), PhysicalDevice(name='/physical_device:GPU:0', device_type='GPU')]\n"
     ]
    },
    {
     "data": {
      "text/plain": [
       "['/workspaces/P7-Trading-Bot/notebooks/TESTS',\n",
       " '/usr/lib/python311.zip',\n",
       " '/usr/lib/python3.11',\n",
       " '/usr/lib/python3.11/lib-dynload',\n",
       " '',\n",
       " '/home/folongton/.local/lib/python3.11/site-packages',\n",
       " '/workspaces/P7-Trading-Bot',\n",
       " '/usr/local/lib/python3.11/dist-packages',\n",
       " '/usr/lib/python3/dist-packages']"
      ]
     },
     "execution_count": 2,
     "metadata": {},
     "output_type": "execute_result"
    }
   ],
   "source": [
    "import tensorflow as tf\n",
    "print(tf.config.list_physical_devices())\n",
    "import sys\n",
    "# sys.path.append(\"/home/folongton/.local/bin\")\n",
    "sys.path"
   ]
  },
  {
   "cell_type": "code",
   "execution_count": 13,
   "metadata": {},
   "outputs": [
    {
     "data": {
      "text/plain": [
       "False"
      ]
     },
     "execution_count": 13,
     "metadata": {},
     "output_type": "execute_result"
    }
   ],
   "source": [
    "import os\n",
    "from src.common.globals import G\n",
    "PROJECT_PATH = G.get_project_root()\n",
    "\n",
    "def check_model_presense(model_name):\n",
    "    ''' Checks if model is already in the folder \"models_trained\" recursively.\n",
    "        If so, returns True, else False.\n",
    "\n",
    "    INPUT:  model_name: str\n",
    "    OUTPUT: bool\n",
    "    '''\n",
    "    for dirpath, dirnames, filenames in os.walk(os.path.join(str(PROJECT_PATH), r'models_trained')):\n",
    "        model_present = False\n",
    "        scalers_present = False\n",
    "        for filename in filenames:\n",
    "            print (filename)\n",
    "            if model_name in filename and filename.endswith('.keras'):\n",
    "                model_present = True\n",
    "\n",
    "            if model_name in filename and filename.endswith('_scalers.pkl'):\n",
    "                scalers_present = True\n",
    "            print (model_present, scalers_present)\n",
    "\n",
    "\n",
    "        if model_present and scalers_present:\n",
    "            return True\n",
    "        elif model_present and not scalers_present:\n",
    "            raise Exception(f'Model {model_name} is present, but scalers are not')\n",
    "        elif not model_present and scalers_present:\n",
    "            raise Exception(f'Model {model_name} is not present, but scalers are')\n",
    "        else:\n",
    "            return False\n",
    "        \n",
    "check_model_presense('MSFT_LSTM_W20_SBS5500_B32_E500_P42113_2023_10_09__16_15')"
   ]
  },
  {
   "cell_type": "code",
   "execution_count": 19,
   "metadata": {},
   "outputs": [
    {
     "name": "stdout",
     "output_type": "stream",
     "text": [
      "MSFT_LSTM_W20_SBS5500_B32_E500_P42113_2023_10_09__16_15.keras\n",
      "MSFT_LSTM_W20_SBS5500_B32_E500_P42113_2023_10_09__16_15_scalers.pkl\n",
      "MSFT_LSTM_W20_SBS5500_B32_E5_P42113_2023_10_10__21_04.keras\n",
      "MSFT_LSTM_W20_SBS5500_B32_E5_P42113_2023_10_10__21_04_scalers.pkl\n",
      "LenearRegression.pkl\n"
     ]
    }
   ],
   "source": [
    "\n",
    "for x,y,z in os.walk(os.path.join(str(PROJECT_PATH), r'models_trained')):\n",
    "    for name in z:\n",
    "        print (name)"
   ]
  },
  {
   "cell_type": "code",
   "execution_count": null,
   "metadata": {},
   "outputs": [],
   "source": []
  }
 ],
 "metadata": {
  "kernelspec": {
   "display_name": ".venv",
   "language": "python",
   "name": "python3"
  },
  "language_info": {
   "codemirror_mode": {
    "name": "ipython",
    "version": 3
   },
   "file_extension": ".py",
   "mimetype": "text/x-python",
   "name": "python",
   "nbconvert_exporter": "python",
   "pygments_lexer": "ipython3",
   "version": "3.11.0rc1"
  },
  "orig_nbformat": 4
 },
 "nbformat": 4,
 "nbformat_minor": 2
}
