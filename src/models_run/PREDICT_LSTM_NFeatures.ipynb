{
 "cells": [
  {
   "cell_type": "code",
   "execution_count": 1,
   "metadata": {},
   "outputs": [
    {
     "name": "stderr",
     "output_type": "stream",
     "text": [
      "2023-10-14 03:37:44.837910: E tensorflow/compiler/xla/stream_executor/cuda/cuda_dnn.cc:9342] Unable to register cuDNN factory: Attempting to register factory for plugin cuDNN when one has already been registered\n",
      "2023-10-14 03:37:44.837969: E tensorflow/compiler/xla/stream_executor/cuda/cuda_fft.cc:609] Unable to register cuFFT factory: Attempting to register factory for plugin cuFFT when one has already been registered\n",
      "2023-10-14 03:37:44.838033: E tensorflow/compiler/xla/stream_executor/cuda/cuda_blas.cc:1518] Unable to register cuBLAS factory: Attempting to register factory for plugin cuBLAS when one has already been registered\n",
      "2023-10-14 03:37:44.850408: I tensorflow/core/platform/cpu_feature_guard.cc:182] This TensorFlow binary is optimized to use available CPU instructions in performance-critical operations.\n",
      "To enable the following instructions: AVX2 FMA, in other operations, rebuild TensorFlow with the appropriate compiler flags.\n"
     ]
    }
   ],
   "source": [
    "import logging\n",
    "from datetime import datetime, timedelta\n",
    "import pandas as pd\n",
    "\n",
    "from src.common.plots import Visualize as V\n",
    "from src.data.get_data import CSVsLoader\n",
    "from src.common.logs import setup_logging, log_model_info\n",
    "from src.features.build_features import FeatureEngineering as FE\n",
    "\n",
    "from src.models_service.models_service import TensorflowDataPreparation as TFDataPrep\n",
    "from src.models_service.models_service import TensorflowModelService as TFModelService\n",
    "from src.models_service.errors import ErrorsCalculation as ErrorCalc\n",
    "from src.data.get_data import YahooFinanceAPI as yfapi\n",
    "from env import Env\n",
    "\n",
    "\n",
    "logger = setup_logging(logger_name=__name__,\n",
    "                        console_level=logging.INFO, \n",
    "                        log_file_level=logging.INFO)\n",
    "\n",
    "DATA_DIR_PROCESSED = (f'{Env.PROJECT_ROOT}/data/03_processed/daily_full')\n",
    "\n",
    "config = {\n",
    "    'AV': {\n",
    "        'key': '',\n",
    "        'ticker': 'MSFT',\n",
    "    },\n",
    "    'data': {\n",
    "        'test_size': 0.05,\n",
    "    },\n",
    "\n",
    "    'model_name': 'MSFT_LSTM_W20_SBS5500_B32_E5_P42113_2023_10_10__21_04',\n",
    "}"
   ]
  },
  {
   "cell_type": "code",
   "execution_count": 2,
   "metadata": {},
   "outputs": [
    {
     "name": "stderr",
     "output_type": "stream",
     "text": [
      "2023-10-14 03:37:46.845142: I tensorflow/compiler/xla/stream_executor/cuda/cuda_gpu_executor.cc:880] could not open file to read NUMA node: /sys/bus/pci/devices/0000:01:00.0/numa_node\n",
      "Your kernel may have been built without NUMA support.\n",
      "2023-10-14 03:37:46.853028: I tensorflow/compiler/xla/stream_executor/cuda/cuda_gpu_executor.cc:880] could not open file to read NUMA node: /sys/bus/pci/devices/0000:01:00.0/numa_node\n",
      "Your kernel may have been built without NUMA support.\n",
      "2023-10-14 03:37:46.853089: I tensorflow/compiler/xla/stream_executor/cuda/cuda_gpu_executor.cc:880] could not open file to read NUMA node: /sys/bus/pci/devices/0000:01:00.0/numa_node\n",
      "Your kernel may have been built without NUMA support.\n",
      "2023-10-14 03:37:46.855633: I tensorflow/compiler/xla/stream_executor/cuda/cuda_gpu_executor.cc:880] could not open file to read NUMA node: /sys/bus/pci/devices/0000:01:00.0/numa_node\n",
      "Your kernel may have been built without NUMA support.\n",
      "2023-10-14 03:37:46.855747: I tensorflow/compiler/xla/stream_executor/cuda/cuda_gpu_executor.cc:880] could not open file to read NUMA node: /sys/bus/pci/devices/0000:01:00.0/numa_node\n",
      "Your kernel may have been built without NUMA support.\n",
      "2023-10-14 03:37:46.855784: I tensorflow/compiler/xla/stream_executor/cuda/cuda_gpu_executor.cc:880] could not open file to read NUMA node: /sys/bus/pci/devices/0000:01:00.0/numa_node\n",
      "Your kernel may have been built without NUMA support.\n",
      "2023-10-14 03:37:47.644523: I tensorflow/compiler/xla/stream_executor/cuda/cuda_gpu_executor.cc:880] could not open file to read NUMA node: /sys/bus/pci/devices/0000:01:00.0/numa_node\n",
      "Your kernel may have been built without NUMA support.\n",
      "2023-10-14 03:37:47.644610: I tensorflow/compiler/xla/stream_executor/cuda/cuda_gpu_executor.cc:880] could not open file to read NUMA node: /sys/bus/pci/devices/0000:01:00.0/numa_node\n",
      "Your kernel may have been built without NUMA support.\n",
      "2023-10-14 03:37:47.644620: I tensorflow/core/common_runtime/gpu/gpu_device.cc:1977] Could not identify NUMA node of platform GPU id 0, defaulting to 0.  Your kernel may not have been built with NUMA support.\n",
      "2023-10-14 03:37:47.644664: I tensorflow/compiler/xla/stream_executor/cuda/cuda_gpu_executor.cc:880] could not open file to read NUMA node: /sys/bus/pci/devices/0000:01:00.0/numa_node\n",
      "Your kernel may have been built without NUMA support.\n",
      "2023-10-14 03:37:47.644684: I tensorflow/core/common_runtime/gpu/gpu_device.cc:1886] Created device /job:localhost/replica:0/task:0/device:GPU:0 with 2070 MB memory:  -> device: 0, name: NVIDIA GeForce GTX 1650, pci bus id: 0000:01:00.0, compute capability: 7.5\n",
      "2023-10-14 03:37:48 - __main__ - INFO - Model loaded from: /workspaces/P7-Trading-Bot/models_trained/keep/MSFT_LSTM_W20_SBS5500_B32_E5_P42113_2023_10_10__21_04.keras\n",
      "2023-10-14 03:37:48 - __main__ - INFO - Scalers loaded: /workspaces/P7-Trading-Bot/models_trained/keep/MSFT_LSTM_W20_SBS5500_B32_E5_P42113_2023_10_10__21_04_scalers.pkl\n"
     ]
    }
   ],
   "source": [
    "# # -----------------------------Data----------------------------------------\n",
    "# df = CSVsLoader(ticker=config['AV']['ticker'], directory=DATA_DIR_PROCESSED)\n",
    "# df = FE.create_features(df, logger)\n",
    "# df_train, df_test = TFDataPrep.split_train_test(df, config['data']['test_size'], logger)\n",
    "\n",
    "# df_test_X = df_test.drop(columns=['Adj Close'])\n",
    "# df_test_X = FE.rename_shifted_columns(df_test_X)\n",
    "# df_test_y = df_test['Adj Close']\n",
    "\n",
    "#------------------------Load the model if necessary--------------------------\n",
    "model_scaler_name = config['model_name']\n",
    "\n",
    "model = TFModelService.load_model(model_name=model_scaler_name, logger=logger)\n",
    "scalers_X = TFModelService.load_scalers(model_name=model_scaler_name, logger=logger)\n",
    "window_size = TFModelService.get_window_size_from_model_name(model._name)"
   ]
  },
  {
   "cell_type": "code",
   "execution_count": 4,
   "metadata": {},
   "outputs": [
    {
     "name": "stdout",
     "output_type": "stream",
     "text": [
      "[*********************100%%**********************]  1 of 1 completed\n"
     ]
    }
   ],
   "source": [
    "# Get the stock data\n",
    "today = datetime.today().strftime('%Y-%m-%d')\n",
    "stock_data_YTD = yfapi.get_daily_data(config['AV']['ticker'], start_date='2023-01-01', end_date=today)\n",
    "stock_data_df = stock_data_YTD[stock_data_YTD.index > '2023-07-01']\n",
    "\n",
    "df_test_X = stock_data_df[['Adj Close', 'Volume']]\n",
    "df_test_X = FE.rename_shifted_columns(df_test_X)\n",
    "df_test_y = stock_data_df['Adj Close']"
   ]
  },
  {
   "cell_type": "code",
   "execution_count": 5,
   "metadata": {},
   "outputs": [
    {
     "ename": "KeyError",
     "evalue": "'Open'",
     "output_type": "error",
     "traceback": [
      "\u001b[0;31m---------------------------------------------------------------------------\u001b[0m",
      "\u001b[0;31mKeyError\u001b[0m                                  Traceback (most recent call last)",
      "\u001b[1;32m/workspaces/P7-Trading-Bot/src/models_run/PREDICT_LSTM_NFeatures.ipynb Cell 4\u001b[0m line \u001b[0;36m2\n\u001b[1;32m      <a href='vscode-notebook-cell://dev-container%2B643a5c5374756479203230313820616e64206c617465725c4d69676e696d696e6420426f6f7463616d705c436f64655c50372d54726164696e672d426f74/workspaces/P7-Trading-Bot/src/models_run/PREDICT_LSTM_NFeatures.ipynb#W2sdnNjb2RlLXJlbW90ZQ%3D%3D?line=0'>1</a>\u001b[0m \u001b[39m# -----------------------------Predictions-----------------------------------\u001b[39;00m\n\u001b[0;32m----> <a href='vscode-notebook-cell://dev-container%2B643a5c5374756479203230313820616e64206c617465725c4d69676e696d696e6420426f6f7463616d705c436f64655c50372d54726164696e672d426f74/workspaces/P7-Trading-Bot/src/models_run/PREDICT_LSTM_NFeatures.ipynb#W2sdnNjb2RlLXJlbW90ZQ%3D%3D?line=1'>2</a>\u001b[0m results \u001b[39m=\u001b[39m TFModelService\u001b[39m.\u001b[39;49mmodel_forecast(model\u001b[39m=\u001b[39;49mmodel, \n\u001b[1;32m      <a href='vscode-notebook-cell://dev-container%2B643a5c5374756479203230313820616e64206c617465725c4d69676e696d696e6420426f6f7463616d705c436f64655c50372d54726164696e672d426f74/workspaces/P7-Trading-Bot/src/models_run/PREDICT_LSTM_NFeatures.ipynb#W2sdnNjb2RlLXJlbW90ZQ%3D%3D?line=2'>3</a>\u001b[0m                                         df\u001b[39m=\u001b[39;49mdf_test_X,\n\u001b[1;32m      <a href='vscode-notebook-cell://dev-container%2B643a5c5374756479203230313820616e64206c617465725c4d69676e696d696e6420426f6f7463616d705c436f64655c50372d54726164696e672d426f74/workspaces/P7-Trading-Bot/src/models_run/PREDICT_LSTM_NFeatures.ipynb#W2sdnNjb2RlLXJlbW90ZQ%3D%3D?line=3'>4</a>\u001b[0m                                         window_size\u001b[39m=\u001b[39;49mwindow_size,\n\u001b[1;32m      <a href='vscode-notebook-cell://dev-container%2B643a5c5374756479203230313820616e64206c617465725c4d69676e696d696e6420426f6f7463616d705c436f64655c50372d54726164696e672d426f74/workspaces/P7-Trading-Bot/src/models_run/PREDICT_LSTM_NFeatures.ipynb#W2sdnNjb2RlLXJlbW90ZQ%3D%3D?line=4'>5</a>\u001b[0m                                         scalers\u001b[39m=\u001b[39;49mscalers_X,\n\u001b[1;32m      <a href='vscode-notebook-cell://dev-container%2B643a5c5374756479203230313820616e64206c617465725c4d69676e696d696e6420426f6f7463616d705c436f64655c50372d54726164696e672d426f74/workspaces/P7-Trading-Bot/src/models_run/PREDICT_LSTM_NFeatures.ipynb#W2sdnNjb2RlLXJlbW90ZQ%3D%3D?line=5'>6</a>\u001b[0m                                         verbose\u001b[39m=\u001b[39;49m\u001b[39mFalse\u001b[39;49;00m)\n\u001b[1;32m      <a href='vscode-notebook-cell://dev-container%2B643a5c5374756479203230313820616e64206c617465725c4d69676e696d696e6420426f6f7463616d705c436f64655c50372d54726164696e672d426f74/workspaces/P7-Trading-Bot/src/models_run/PREDICT_LSTM_NFeatures.ipynb#W2sdnNjb2RlLXJlbW90ZQ%3D%3D?line=7'>8</a>\u001b[0m df_test_plot_y \u001b[39m=\u001b[39m TFModelService\u001b[39m.\u001b[39mprep_test_df_shape(df_test_y, window_size)\n\u001b[1;32m     <a href='vscode-notebook-cell://dev-container%2B643a5c5374756479203230313820616e64206c617465725c4d69676e696d696e6420426f6f7463616d705c436f64655c50372d54726164696e672d426f74/workspaces/P7-Trading-Bot/src/models_run/PREDICT_LSTM_NFeatures.ipynb#W2sdnNjb2RlLXJlbW90ZQ%3D%3D?line=9'>10</a>\u001b[0m V\u001b[39m.\u001b[39mplot_series(  x\u001b[39m=\u001b[39mdf_test_plot_y\u001b[39m.\u001b[39mindex,  \u001b[39m# as dates\u001b[39;00m\n\u001b[1;32m     <a href='vscode-notebook-cell://dev-container%2B643a5c5374756479203230313820616e64206c617465725c4d69676e696d696e6420426f6f7463616d705c436f64655c50372d54726164696e672d426f74/workspaces/P7-Trading-Bot/src/models_run/PREDICT_LSTM_NFeatures.ipynb#W2sdnNjb2RlLXJlbW90ZQ%3D%3D?line=10'>11</a>\u001b[0m                 y\u001b[39m=\u001b[39m(df_test_plot_y, results),\n\u001b[1;32m     <a href='vscode-notebook-cell://dev-container%2B643a5c5374756479203230313820616e64206c617465725c4d69676e696d696e6420426f6f7463616d705c436f64655c50372d54726164696e672d426f74/workspaces/P7-Trading-Bot/src/models_run/PREDICT_LSTM_NFeatures.ipynb#W2sdnNjb2RlLXJlbW90ZQ%3D%3D?line=11'>12</a>\u001b[0m                 model_name\u001b[39m=\u001b[39mmodel\u001b[39m.\u001b[39m_name,\n\u001b[0;32m   (...)\u001b[0m\n\u001b[1;32m     <a href='vscode-notebook-cell://dev-container%2B643a5c5374756479203230313820616e64206c617465725c4d69676e696d696e6420426f6f7463616d705c436f64655c50372d54726164696e672d426f74/workspaces/P7-Trading-Bot/src/models_run/PREDICT_LSTM_NFeatures.ipynb#W2sdnNjb2RlLXJlbW90ZQ%3D%3D?line=15'>16</a>\u001b[0m                 legend\u001b[39m=\u001b[39m[\u001b[39m'\u001b[39m\u001b[39mActual\u001b[39m\u001b[39m'\u001b[39m, \u001b[39m'\u001b[39m\u001b[39mPredicted\u001b[39m\u001b[39m'\u001b[39m],\n\u001b[1;32m     <a href='vscode-notebook-cell://dev-container%2B643a5c5374756479203230313820616e64206c617465725c4d69676e696d696e6420426f6f7463616d705c436f64655c50372d54726164696e672d426f74/workspaces/P7-Trading-Bot/src/models_run/PREDICT_LSTM_NFeatures.ipynb#W2sdnNjb2RlLXJlbW90ZQ%3D%3D?line=16'>17</a>\u001b[0m                 show\u001b[39m=\u001b[39m\u001b[39mTrue\u001b[39;00m,)\n",
      "File \u001b[0;32m/workspaces/P7-Trading-Bot/src/models_service/models_service.py:472\u001b[0m, in \u001b[0;36mTensorflowModelService.model_forecast\u001b[0;34m(model, df, window_size, scalers, verbose)\u001b[0m\n\u001b[1;32m    470\u001b[0m \u001b[39m# Scale the data\u001b[39;00m\n\u001b[1;32m    471\u001b[0m \u001b[39mfor\u001b[39;00m col \u001b[39min\u001b[39;00m X_df\u001b[39m.\u001b[39mcolumns:\n\u001b[0;32m--> 472\u001b[0m     scaler \u001b[39m=\u001b[39m scalers[col]\n\u001b[1;32m    473\u001b[0m     X_df[col] \u001b[39m=\u001b[39m scaler\u001b[39m.\u001b[39mtransform(X_df[col]\u001b[39m.\u001b[39mvalues\u001b[39m.\u001b[39mreshape(\u001b[39m-\u001b[39m\u001b[39m1\u001b[39m,\u001b[39m1\u001b[39m))\n\u001b[1;32m    475\u001b[0m \u001b[39mif\u001b[39;00m verbose:\n",
      "\u001b[0;31mKeyError\u001b[0m: 'Open'"
     ]
    }
   ],
   "source": [
    "# -----------------------------Predictions-----------------------------------\n",
    "results = TFModelService.model_forecast(model=model, \n",
    "                                        df=df_test_X,\n",
    "                                        window_size=window_size,\n",
    "                                        scalers=scalers_X,\n",
    "                                        verbose=False)\n",
    "\n",
    "df_test_plot_y = TFModelService.prep_test_df_shape(df_test_y, window_size)\n",
    "\n",
    "V.plot_series(  x=df_test_plot_y.index,  # as dates\n",
    "                y=(df_test_plot_y, results),\n",
    "                model_name=model._name,\n",
    "                title=f'Predictions {model._name}',\n",
    "                xlabel='Date',\n",
    "                ylabel='Price',\n",
    "                legend=['Actual', 'Predicted'],\n",
    "                show=True,)"
   ]
  },
  {
   "cell_type": "code",
   "execution_count": null,
   "metadata": {},
   "outputs": [
    {
     "name": "stderr",
     "output_type": "stream",
     "text": [
      "2023-10-14 03:24:50 - src.models_service.errors - INFO - Test RMSE: $ 12.029\n",
      "2023-10-14 03:24:50 - src.models_service.errors - INFO - Test MAE : $ 9.886\n",
      "2023-10-14 03:24:50 - src.models_service.errors - INFO - Test MAPE:   0.037\n",
      "2023-10-14 03:24:50 - src.models_service.errors - INFO - Test MASE:   2.445\n",
      "2023-10-14 03:24:50 - src.models_service.errors - INFO - Errors saved to for MSFT_LSTM_W20_SBS5500_B32_E5_P42113_2023_10_10__21_04 model to \"logs/models_table.csv\" file.\n"
     ]
    },
    {
     "name": "stdout",
     "output_type": "stream",
     "text": [
      "/workspaces/P7-Trading-Bot/models_trained\n"
     ]
    }
   ],
   "source": [
    "# -----------------------Calculate Errors----------------------------------\n",
    "naive_forecast = ErrorCalc.get_naive_forecast(df).loc[df_test_plot_y.index] # Getting same days as results\n",
    "rmse, mae, mape, mase = ErrorCalc.calc_errors(df_test_plot_y, results, naive_forecast)\n",
    "ErrorCalc.save_errors_to_table(model._name, {'rmse': rmse, 'mae': mae, 'mape': mape, 'mase': mase})"
   ]
  },
  {
   "cell_type": "markdown",
   "metadata": {},
   "source": []
  }
 ],
 "metadata": {
  "kernelspec": {
   "display_name": "Python 3",
   "language": "python",
   "name": "python3"
  },
  "language_info": {
   "codemirror_mode": {
    "name": "ipython",
    "version": 3
   },
   "file_extension": ".py",
   "mimetype": "text/x-python",
   "name": "python",
   "nbconvert_exporter": "python",
   "pygments_lexer": "ipython3",
   "version": "3.11.0rc1"
  }
 },
 "nbformat": 4,
 "nbformat_minor": 2
}
