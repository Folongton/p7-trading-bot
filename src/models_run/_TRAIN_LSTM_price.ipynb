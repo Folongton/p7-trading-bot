{
 "cells": [
  {
   "cell_type": "markdown",
   "metadata": {},
   "source": [
    "* This is traning to predict tomorrows price. Price for one day only. See LSTM_TRAIN_LSTM_trend.ipynb for trend preds."
   ]
  },
  {
   "cell_type": "code",
   "execution_count": 1,
   "metadata": {},
   "outputs": [
    {
     "name": "stderr",
     "output_type": "stream",
     "text": [
      "2023-11-18 22:03:11.070145: E tensorflow/compiler/xla/stream_executor/cuda/cuda_dnn.cc:9342] Unable to register cuDNN factory: Attempting to register factory for plugin cuDNN when one has already been registered\n",
      "2023-11-18 22:03:11.070224: E tensorflow/compiler/xla/stream_executor/cuda/cuda_fft.cc:609] Unable to register cuFFT factory: Attempting to register factory for plugin cuFFT when one has already been registered\n",
      "2023-11-18 22:03:11.070257: E tensorflow/compiler/xla/stream_executor/cuda/cuda_blas.cc:1518] Unable to register cuBLAS factory: Attempting to register factory for plugin cuBLAS when one has already been registered\n",
      "2023-11-18 22:03:11.084208: I tensorflow/core/platform/cpu_feature_guard.cc:182] This TensorFlow binary is optimized to use available CPU instructions in performance-critical operations.\n",
      "To enable the following instructions: AVX2 FMA, in other operations, rebuild TensorFlow with the appropriate compiler flags.\n"
     ]
    }
   ],
   "source": [
    "import logging\n",
    "import tensorflow as tf\n",
    "\n",
    "from src.common.logs import setup_logging\n",
    "from src.models_service.models_service import TensorflowModelTuningService as TFMTS\n",
    "from env import Env\n",
    "\n",
    "\n",
    "logger = setup_logging(logger_name=__name__,\n",
    "                        console_level=logging.INFO, \n",
    "                        log_file_level=logging.INFO)\n",
    "\n",
    "config = {\n",
    "    'AV': {\n",
    "        'key': '',\n",
    "        'ticker': 'VGT',\n",
    "        'outputsize': 'full',\n",
    "        'key_adjusted_close': 'Adj Close',\n",
    "        'key_volume': 'Volume',\n",
    "    },\n",
    "    'data': {\n",
    "        'test_size': 0.05,\n",
    "    }, \n",
    "    'model': {\n",
    "        'name': 'LSTM', \n",
    "        'type': 'price',\n",
    "        'window': [20],\n",
    "        'shuffle_buffer_size' : [1], # In % from dataset len. https://www.tensorflow.org/api_docs/python/tf/data/Dataset#shuffle\n",
    "        'batch_size' : [64],\n",
    "        'epochs' : [50],\n",
    "# ----------------------------------\n",
    "        'optimizer': 'adam',\n",
    "        'loss': 'huber_loss',\n",
    "        'metrics': ['mae', 'mse'],\n",
    "    },\n",
    "    'plots': {\n",
    "        'loss_zoom': 0.9,\n",
    "        'show': False,\n",
    "    },\n",
    "}"
   ]
  },
  {
   "cell_type": "markdown",
   "metadata": {},
   "source": [
    "# Grig Search"
   ]
  },
  {
   "cell_type": "markdown",
   "metadata": {},
   "source": [
    "* When we traine model it is trained on yesterdays (close-1) data to predict todays close.  \n",
    "In reality we use training data which is  some time in the past. But the idea is the same:   \n",
    "\n",
    "<center><b> We use (-1t) features to train (0t) Closing Price. </b></center>\n",
    "\n",
    "* Then we predict Todays close price using yesterdays data.  \n",
    "* This means on the chart which we see and use in files PREDICT_LSTM_NFeatures.ipynb and _TRAIN_LSTM_NFeatures.ipynb and saved pictures we use yesturday's data to predict todays close price and plotting todays close price and prediction.   \n",
    "<center><b>  BUT FEATURES FROM TODAY ARE NOT USED IN PREDICTION </b></center>\n",
    "\n",
    "* So we can use today's closing data to predict tomorrows close price. That is what we do int app.py. We don't shift data since we don;t need to train model. We just data as is meaning today's input predicts tomorrows close price - (t0) predicts (t1)."
   ]
  },
  {
   "cell_type": "code",
   "execution_count": 2,
   "metadata": {},
   "outputs": [
    {
     "name": "stderr",
     "output_type": "stream",
     "text": [
      "2023-11-18 22:03:15.941444: I tensorflow/compiler/xla/stream_executor/cuda/cuda_gpu_executor.cc:880] could not open file to read NUMA node: /sys/bus/pci/devices/0000:01:00.0/numa_node\n",
      "Your kernel may have been built without NUMA support.\n",
      "2023-11-18 22:03:15.951710: I tensorflow/compiler/xla/stream_executor/cuda/cuda_gpu_executor.cc:880] could not open file to read NUMA node: /sys/bus/pci/devices/0000:01:00.0/numa_node\n",
      "Your kernel may have been built without NUMA support.\n",
      "2023-11-18 22:03:15.951794: I tensorflow/compiler/xla/stream_executor/cuda/cuda_gpu_executor.cc:880] could not open file to read NUMA node: /sys/bus/pci/devices/0000:01:00.0/numa_node\n",
      "Your kernel may have been built without NUMA support.\n",
      "2023-11-18 22:03:15.955851: I tensorflow/compiler/xla/stream_executor/cuda/cuda_gpu_executor.cc:880] could not open file to read NUMA node: /sys/bus/pci/devices/0000:01:00.0/numa_node\n",
      "Your kernel may have been built without NUMA support.\n",
      "2023-11-18 22:03:15.955940: I tensorflow/compiler/xla/stream_executor/cuda/cuda_gpu_executor.cc:880] could not open file to read NUMA node: /sys/bus/pci/devices/0000:01:00.0/numa_node\n",
      "Your kernel may have been built without NUMA support.\n",
      "2023-11-18 22:03:15.955970: I tensorflow/compiler/xla/stream_executor/cuda/cuda_gpu_executor.cc:880] could not open file to read NUMA node: /sys/bus/pci/devices/0000:01:00.0/numa_node\n",
      "Your kernel may have been built without NUMA support.\n",
      "2023-11-18 22:03:16.225813: I tensorflow/compiler/xla/stream_executor/cuda/cuda_gpu_executor.cc:880] could not open file to read NUMA node: /sys/bus/pci/devices/0000:01:00.0/numa_node\n",
      "Your kernel may have been built without NUMA support.\n",
      "2023-11-18 22:03:16.225909: I tensorflow/compiler/xla/stream_executor/cuda/cuda_gpu_executor.cc:880] could not open file to read NUMA node: /sys/bus/pci/devices/0000:01:00.0/numa_node\n",
      "Your kernel may have been built without NUMA support.\n",
      "2023-11-18 22:03:16.225923: I tensorflow/core/common_runtime/gpu/gpu_device.cc:1977] Could not identify NUMA node of platform GPU id 0, defaulting to 0.  Your kernel may not have been built with NUMA support.\n",
      "2023-11-18 22:03:16.225962: I tensorflow/compiler/xla/stream_executor/cuda/cuda_gpu_executor.cc:880] could not open file to read NUMA node: /sys/bus/pci/devices/0000:01:00.0/numa_node\n",
      "Your kernel may have been built without NUMA support.\n",
      "2023-11-18 22:03:16.226023: I tensorflow/core/common_runtime/gpu/gpu_device.cc:1886] Created device /job:localhost/replica:0/task:0/device:GPU:0 with 2255 MB memory:  -> device: 0, name: NVIDIA GeForce GTX 1650, pci bus id: 0000:01:00.0, compute capability: 7.5\n"
     ]
    },
    {
     "ename": "TypeError",
     "evalue": "CSVsLoader.__init__() missing 1 required positional argument: 'logger'",
     "output_type": "error",
     "traceback": [
      "\u001b[0;31m---------------------------------------------------------------------------\u001b[0m",
      "\u001b[0;31mTypeError\u001b[0m                                 Traceback (most recent call last)",
      "\u001b[1;32m/workspaces/P7-Trading-Bot/src/models_run/_TRAIN_LSTM_price.ipynb Cell 5\u001b[0m line \u001b[0;36m1\n\u001b[1;32m     <a href='vscode-notebook-cell://dev-container%2B643a5c5374756479203230313820616e64206c617465725c4d69676e696d696e6420426f6f7463616d705c436f64655c50372d54726164696e672d426f74/workspaces/P7-Trading-Bot/src/models_run/_TRAIN_LSTM_price.ipynb#W4sdnNjb2RlLXJlbW90ZQ%3D%3D?line=9'>10</a>\u001b[0m \u001b[39m# model.save_weights(f'{Env.PROJECT_ROOT}/models_trained/keep/my_model_weights.h5')\u001b[39;00m\n\u001b[1;32m     <a href='vscode-notebook-cell://dev-container%2B643a5c5374756479203230313820616e64206c617465725c4d69676e696d696e6420426f6f7463616d705c436f64655c50372d54726164696e672d426f74/workspaces/P7-Trading-Bot/src/models_run/_TRAIN_LSTM_price.ipynb#W4sdnNjb2RlLXJlbW90ZQ%3D%3D?line=10'>11</a>\u001b[0m grid_search_service \u001b[39m=\u001b[39m TFMTS(model, config)\n\u001b[0;32m---> <a href='vscode-notebook-cell://dev-container%2B643a5c5374756479203230313820616e64206c617465725c4d69676e696d696e6420426f6f7463616d705c436f64655c50372d54726164696e672d426f74/workspaces/P7-Trading-Bot/src/models_run/_TRAIN_LSTM_price.ipynb#W4sdnNjb2RlLXJlbW90ZQ%3D%3D?line=11'>12</a>\u001b[0m grid_search_service\u001b[39m.\u001b[39;49mgrid_search(logger, verbose\u001b[39m=\u001b[39;49m\u001b[39mFalse\u001b[39;49;00m)\n",
      "File \u001b[0;32m/workspaces/P7-Trading-Bot/src/models_service/models_service.py:706\u001b[0m, in \u001b[0;36mTensorflowModelTuningService.grid_search\u001b[0;34m(self, logger, verbose)\u001b[0m\n\u001b[1;32m    699\u001b[0m \u001b[39m\u001b[39m\u001b[39m''' \u001b[39;00m\n\u001b[1;32m    700\u001b[0m \u001b[39mIN: \u001b[39;00m\n\u001b[1;32m    701\u001b[0m \u001b[39m    self - class object with config and model\u001b[39;00m\n\u001b[1;32m    702\u001b[0m \u001b[39mOUT:\u001b[39;00m\n\u001b[1;32m    703\u001b[0m \u001b[39m    best_params - dict\u001b[39;00m\n\u001b[1;32m    704\u001b[0m \u001b[39m'''\u001b[39;00m\n\u001b[1;32m    705\u001b[0m \u001b[39m# check if shuffle buffer size is less than data size to avoid errors\u001b[39;00m\n\u001b[0;32m--> 706\u001b[0m data_size \u001b[39m=\u001b[39m \u001b[39mlen\u001b[39m(CSVsLoader(ticker\u001b[39m=\u001b[39;49m\u001b[39mself\u001b[39;49m\u001b[39m.\u001b[39;49mconfig[\u001b[39m'\u001b[39;49m\u001b[39mAV\u001b[39;49m\u001b[39m'\u001b[39;49m][\u001b[39m'\u001b[39;49m\u001b[39mticker\u001b[39;49m\u001b[39m'\u001b[39;49m], directory\u001b[39m=\u001b[39;49mDATA_DIR_PROCESSED))\n\u001b[1;32m    707\u001b[0m \u001b[39mfor\u001b[39;00m buf_size \u001b[39min\u001b[39;00m \u001b[39mself\u001b[39m\u001b[39m.\u001b[39mconfig[\u001b[39m'\u001b[39m\u001b[39mmodel\u001b[39m\u001b[39m'\u001b[39m][\u001b[39m'\u001b[39m\u001b[39mshuffle_buffer_size\u001b[39m\u001b[39m'\u001b[39m]:\n\u001b[1;32m    708\u001b[0m     \u001b[39mif\u001b[39;00m buf_size \u001b[39m>\u001b[39m data_size:\n",
      "\u001b[0;31mTypeError\u001b[0m: CSVsLoader.__init__() missing 1 required positional argument: 'logger'"
     ]
    }
   ],
   "source": [
    "model = tf.keras.models.Sequential([\n",
    "        tf.keras.layers.LSTM(64, return_sequences=True, input_shape=(None, 2)), # where 2 is the number of features\n",
    "        tf.keras.layers.LSTM(32),\n",
    "        tf.keras.layers.Dense(128, activation=\"relu\"),\n",
    "        tf.keras.layers.Dense(64, activation=\"relu\"),\n",
    "        tf.keras.layers.Dense(1),\n",
    "        ]\n",
    "    )\n",
    "\n",
    "# model.save_weights(f'{Env.PROJECT_ROOT}/models_trained/keep/my_model_weights.h5')\n",
    "grid_search_service = TFMTS(model, config)\n",
    "grid_search_service.grid_search(logger, verbose=False)"
   ]
  }
 ],
 "metadata": {
  "kernelspec": {
   "display_name": ".venv",
   "language": "python",
   "name": "python3"
  },
  "language_info": {
   "codemirror_mode": {
    "name": "ipython",
    "version": 3
   },
   "file_extension": ".py",
   "mimetype": "text/x-python",
   "name": "python",
   "nbconvert_exporter": "python",
   "pygments_lexer": "ipython3",
   "version": "3.11.0rc1"
  },
  "orig_nbformat": 4
 },
 "nbformat": 4,
 "nbformat_minor": 2
}
